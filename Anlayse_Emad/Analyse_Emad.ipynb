{
 "cells": [
  {
   "attachments": {},
   "cell_type": "markdown",
   "metadata": {},
   "source": [
    "# Rio De Janero"
   ]
  },
  {
   "cell_type": "markdown",
   "metadata": {},
   "source": [
    "![Alt Text](https://media.tenor.com/oW_vzeDVjOcAAAAC/travel-rio-de-janeiro.gif)"
   ]
  },
  {
   "cell_type": "code",
   "execution_count": 1,
   "metadata": {},
   "outputs": [],
   "source": [
    "import pandas as pd\n",
    "import glob\n",
    "import os"
   ]
  },
  {
   "cell_type": "code",
   "execution_count": 8,
   "metadata": {},
   "outputs": [],
   "source": [
    "olist_customers_dataset = pd.read_csv(\"../Data/olist_customers_dataset.csv\")\n",
    "olist_geolocation_dataset = pd.read_csv(\"../Data/olist_geolocation_dataset.csv\")\n",
    "olist_order_items_dataset = pd.read_csv(\"../Data/olist_order_items_dataset.csv\")\n",
    "olist_order_payments_dataset = pd.read_csv(\"../Data/olist_order_payments_dataset.csv\")\n",
    "olist_order_reviews_dataset = pd.read_csv(\"../Data/olist_order_reviews_dataset.csv\")\n",
    "olist_orders_dataset = pd.read_csv(\"../Data/olist_orders_dataset.csv\")\n",
    "olist_products_dataset = pd.read_csv(\"../Data/olist_products_dataset.csv\")\n",
    "olist_sellers_dataset = pd.read_csv(\"../Data/olist_sellers_dataset.csv\")\n",
    "product_category_name_translation = pd.read_csv(\"../Data/product_category_name_translation.csv\")"
   ]
  },
  {
   "cell_type": "code",
   "execution_count": null,
   "metadata": {},
   "outputs": [],
   "source": []
  }
 ],
 "metadata": {
  "kernelspec": {
   "display_name": "base",
   "language": "python",
   "name": "python3"
  },
  "language_info": {
   "codemirror_mode": {
    "name": "ipython",
    "version": 3
   },
   "file_extension": ".py",
   "mimetype": "text/x-python",
   "name": "python",
   "nbconvert_exporter": "python",
   "pygments_lexer": "ipython3",
   "version": "3.9.12"
  },
  "orig_nbformat": 4,
  "vscode": {
   "interpreter": {
    "hash": "d25f34363254810493f69e19f8fea8925d807b842d2c9e5aec83143d940402f1"
   }
  }
 },
 "nbformat": 4,
 "nbformat_minor": 2
}
